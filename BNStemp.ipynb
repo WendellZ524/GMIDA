{
 "cells": [
  {
   "cell_type": "markdown",
   "metadata": {},
   "source": [
    "# GMI Attack target network\n",
    "Use KITTI image to attack Target (GTA5) Network\n",
    "Step 1: Train GAN on KITTI\n",
    "\n"
   ]
  },
  {
   "cell_type": "code",
   "execution_count": 86,
   "metadata": {},
   "outputs": [],
   "source": [
    "import torch\n",
    "from models import  DeepLabV3\n",
    "import torch.nn as nn"
   ]
  },
  {
   "cell_type": "code",
   "execution_count": 95,
   "metadata": {},
   "outputs": [
    {
     "name": "stderr",
     "output_type": "stream",
     "text": [
      "c:\\Users\\27443\\anaconda3\\lib\\site-packages\\torchvision\\models\\_utils.py:208: UserWarning: The parameter 'pretrained' is deprecated since 0.13 and will be removed in 0.15, please use 'weights' instead.\n",
      "  warnings.warn(\n",
      "c:\\Users\\27443\\anaconda3\\lib\\site-packages\\torchvision\\models\\_utils.py:223: UserWarning: Arguments other than a weight enum or `None` for 'weights' are deprecated since 0.13 and will be removed in 0.15. The current behavior is equivalent to passing `weights=None`.\n",
      "  warnings.warn(msg)\n"
     ]
    }
   ],
   "source": [
    "# Models\n",
    "# Generator\n",
    "# Discriminator\n",
    "# Target\n",
    "Target_model = DeepLabV3().cuda()\n",
    "\n",
    "Target_model = Target_model.train()\n",
    "# use hook to get internal input\n",
    "# print(Target_model)\n",
    "\n",
    "activation = {}\n",
    "def get_activation(name):\n",
    "    def hook(model, input, output):\n",
    "        activation[name] = output.detach()\n",
    "    return hook\n",
    "BNLoss = []\n",
    "def get_BN(name):\n",
    "    def hook(model, input, output):\n",
    "        running_mean = model.running_mean\n",
    "        running_var = model.running_var\n",
    "        \n",
    "\n",
    "        nch = input[0].detach().shape[1]\n",
    "        mean = input[0].detach().mean([0, 2, 3])\n",
    "        var = input[0].detach().permute(1, 0, 2, 3).contiguous().view([nch, -1]).var(1, unbiased=False)\n",
    "\n",
    "        BNLoss.append(torch.norm(running_var.data - var, 2) + torch.norm(\n",
    "            running_mean.data - mean, 2))\n",
    "\n",
    "    return hook\n",
    "\n",
    "    \n",
    "for m in Target_model.backbone.modules():\n",
    "    if isinstance(m, nn.BatchNorm2d):\n",
    "        m.register_forward_hook(get_BN(m))\n",
    "    # if m.startswith('layer'):\n",
    "    #     Target_model.backbone[m][-1].bn3.register_forward_hook(get_BN(m))\n",
    "\n",
    "\n"
   ]
  },
  {
   "cell_type": "code",
   "execution_count": 97,
   "metadata": {},
   "outputs": [
    {
     "name": "stdout",
     "output_type": "stream",
     "text": [
      "tensor(108.4299, device='cuda:0')\n"
     ]
    }
   ],
   "source": [
    "dummy = torch.rand(2,3,64,128).cuda()\n",
    "y = Target_model(dummy)['out']\n",
    "# print(y.size()) #B 3 256 512 -> B 19 32 64 \n",
    "\n",
    "# for l in activation:\n",
    "#     print(l,activation[l].size())\n",
    "\n",
    "print(sum(BNLoss))\n",
    "# for l in BNLoss:\n",
    "#     print(BNLoss)\n"
   ]
  }
 ],
 "metadata": {
  "kernelspec": {
   "display_name": "Python 3.8.8 ('base')",
   "language": "python",
   "name": "python3"
  },
  "language_info": {
   "codemirror_mode": {
    "name": "ipython",
    "version": 3
   },
   "file_extension": ".py",
   "mimetype": "text/x-python",
   "name": "python",
   "nbconvert_exporter": "python",
   "pygments_lexer": "ipython3",
   "version": "3.8.8"
  },
  "orig_nbformat": 4,
  "vscode": {
   "interpreter": {
    "hash": "e7ff9c0dded1d52c3c1a9a8606639aad76ffdee4ff0b707021cc10d9bb7ae1b7"
   }
  }
 },
 "nbformat": 4,
 "nbformat_minor": 2
}
