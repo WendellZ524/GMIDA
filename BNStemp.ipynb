{
 "cells": [
  {
   "cell_type": "markdown",
   "metadata": {},
   "source": [
    "# GMI Attack target network\n",
    "Use KITTI image to attack Target (GTA5) Network\n",
    "Step 1: Train GAN on KITTI\n",
    "\n"
   ]
  },
  {
   "cell_type": "code",
   "execution_count": 2,
   "metadata": {},
   "outputs": [
    {
     "ename": "",
     "evalue": "",
     "output_type": "error",
     "traceback": [
      "\u001b[1;31mThe Kernel crashed while executing code in the the current cell or a previous cell. Please review the code in the cell(s) to identify a possible cause of the failure. Click <a href='https://aka.ms/vscodeJupyterKernelCrash'>here</a> for more info. View Jupyter <a href='command:jupyter.viewOutput'>log</a> for further details."
     ]
    }
   ],
   "source": [
    "import torch\n",
    "from models import  DeepLabV3\n",
    "import torch.nn as nn"
   ]
  },
  {
   "cell_type": "code",
   "execution_count": 1,
   "metadata": {},
   "outputs": [
    {
     "ename": "NameError",
     "evalue": "name 'DeepLabV3' is not defined",
     "output_type": "error",
     "traceback": [
      "\u001b[1;31m---------------------------------------------------------------------------\u001b[0m",
      "\u001b[1;31mNameError\u001b[0m                                 Traceback (most recent call last)",
      "\u001b[1;32m<ipython-input-1-66afd15db529>\u001b[0m in \u001b[0;36m<module>\u001b[1;34m\u001b[0m\n\u001b[0;32m      3\u001b[0m \u001b[1;31m# Discriminator\u001b[0m\u001b[1;33m\u001b[0m\u001b[1;33m\u001b[0m\u001b[1;33m\u001b[0m\u001b[0m\n\u001b[0;32m      4\u001b[0m \u001b[1;31m# Target\u001b[0m\u001b[1;33m\u001b[0m\u001b[1;33m\u001b[0m\u001b[1;33m\u001b[0m\u001b[0m\n\u001b[1;32m----> 5\u001b[1;33m \u001b[0mTarget_model\u001b[0m \u001b[1;33m=\u001b[0m \u001b[0mDeepLabV3\u001b[0m\u001b[1;33m(\u001b[0m\u001b[1;33m)\u001b[0m\u001b[1;33m.\u001b[0m\u001b[0mcuda\u001b[0m\u001b[1;33m(\u001b[0m\u001b[1;33m)\u001b[0m\u001b[1;33m\u001b[0m\u001b[1;33m\u001b[0m\u001b[0m\n\u001b[0m\u001b[0;32m      6\u001b[0m \u001b[1;33m\u001b[0m\u001b[0m\n\u001b[0;32m      7\u001b[0m \u001b[0mTarget_model\u001b[0m \u001b[1;33m=\u001b[0m \u001b[0mTarget_model\u001b[0m\u001b[1;33m.\u001b[0m\u001b[0mtrain\u001b[0m\u001b[1;33m(\u001b[0m\u001b[1;33m)\u001b[0m\u001b[1;33m\u001b[0m\u001b[1;33m\u001b[0m\u001b[0m\n",
      "\u001b[1;31mNameError\u001b[0m: name 'DeepLabV3' is not defined"
     ]
    }
   ],
   "source": [
    "# Models\n",
    "# Generator\n",
    "# Discriminator\n",
    "# Target\n",
    "Target_model = DeepLabV3().cuda()\n",
    "\n",
    "Target_model = Target_model.train()\n",
    "# use hook to get internal input\n",
    "# print(Target_model)\n",
    "\n",
    "activation = {}\n",
    "def get_activation(name):\n",
    "    def hook(model, input, output):\n",
    "        activation[name] = output.detach()\n",
    "    return hook\n",
    "\n",
    "BNLoss = []\n",
    "def get_BN(name):\n",
    "    def hook(model, input, output):\n",
    "        running_mean = model.running_mean\n",
    "        running_var = model.running_var\n",
    "        \n",
    "\n",
    "        nch = input[0].detach().shape[1]\n",
    "        mean = input[0].detach().mean([0, 2, 3])\n",
    "        var = input[0].detach().permute(1, 0, 2, 3).contiguous().view([nch, -1]).var(1, unbiased=False)\n",
    "\n",
    "        BNLoss.append(torch.norm(running_var.data - var, 2) + torch.norm(\n",
    "            running_mean.data - mean, 2))\n",
    "\n",
    "    return hook\n",
    "\n",
    "    \n",
    "for m in Target_model.backbone.modules():\n",
    "    if isinstance(m, nn.BatchNorm2d):\n",
    "        # print(m)\n",
    "        m.register_forward_hook(get_BN(m))\n",
    "    # if m.startswith('layer'):\n",
    "    #     Target_model.backbone[m][-1].bn3.register_forward_hook(get_BN(m))\n",
    "print(BNLoss)\n",
    "\n"
   ]
  },
  {
   "cell_type": "code",
   "execution_count": 4,
   "metadata": {},
   "outputs": [
    {
     "name": "stdout",
     "output_type": "stream",
     "text": [
      "tensor(109.1019, device='cuda:0')\n"
     ]
    }
   ],
   "source": [
    "dummy = torch.rand(2,3,64,128).cuda()\n",
    "y = Target_model(dummy)['out']\n",
    "# print(y.size()) #B 3 256 512 -> B 19 32 64 \n",
    "\n",
    "# for l in activation:\n",
    "#     print(l,activation[l].size())\n",
    "\n",
    "print(sum(BNLoss))\n",
    "# for l in BNLoss:\n",
    "#     print(BNLoss)\n"
   ]
  }
 ],
 "metadata": {
  "kernelspec": {
   "display_name": "Python 3.8.5 ('base')",
   "language": "python",
   "name": "python3"
  },
  "language_info": {
   "codemirror_mode": {
    "name": "ipython",
    "version": 3
   },
   "file_extension": ".py",
   "mimetype": "text/x-python",
   "name": "python",
   "nbconvert_exporter": "python",
   "pygments_lexer": "ipython3",
   "version": "3.8.5"
  },
  "orig_nbformat": 4,
  "vscode": {
   "interpreter": {
    "hash": "b09ec625f77bf4fd762565a912b97636504ad6ec901eb2d0f4cf5a7de23e1ee5"
   }
  }
 },
 "nbformat": 4,
 "nbformat_minor": 2
}
