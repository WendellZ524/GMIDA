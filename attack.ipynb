{
 "cells": [
  {
   "cell_type": "markdown",
   "metadata": {},
   "source": [
    "# Attack\n",
    "\n",
    "https://github.com/AI-secure/GMI-Attack\n",
    "\n",
    "attack the private model use public data\n",
    "\n",
    "private model is the segmentation net trained on GTA5"
   ]
  },
  {
   "cell_type": "code",
   "execution_count": 2,
   "metadata": {},
   "outputs": [],
   "source": [
    "import torch\n",
    "import torch.nn as nn\n",
    "from models.deeplabv3 import DeepLabV3\n",
    "from models.gan import Generator\n",
    "from models.gan import Discriminator\n",
    "\n",
    "from datasets.cityscapes import CityScapes\n",
    "from torchvision import transforms as T\n",
    "import torchvision.transforms.functional as F\n",
    "#visualization \n",
    "from tqdm.notebook import tqdm"
   ]
  },
  {
   "cell_type": "code",
   "execution_count": 9,
   "metadata": {},
   "outputs": [
    {
     "data": {
      "application/vnd.jupyter.widget-view+json": {
       "model_id": "5e1b9ec8cfa9418f91c9610f444a3b51",
       "version_major": 2,
       "version_minor": 0
      },
      "text/plain": [
       "HBox(children=(HTML(value=''), FloatProgress(value=0.0, max=2975.0), HTML(value='')))"
      ]
     },
     "metadata": {},
     "output_type": "display_data"
    },
    {
     "name": "stdout",
     "output_type": "stream",
     "text": [
      "torch.Size([1, 3, 1024, 2048])\n",
      "torch.Size([1, 1024, 2048])\n",
      "['aachen_000000_000019_leftImg8bit']\n"
     ]
    },
    {
     "data": {
      "image/png": "[encoded data removed]",
      "text/plain": [
       "<Figure size 432x288 with 1 Axes>"
      ]
     },
     "metadata": {
      "needs_background": "light"
     },
     "output_type": "display_data"
    },
    {
     "name": "stdout",
     "output_type": "stream",
     "text": [
      "torch.Size([1, 1024, 2048])\n",
      "[  0   1   2   5   7   8   9  10  11  12  13  18 255]\n",
      "\n"
     ]
    }
   ],
   "source": [
    "\n",
    "from configparser import Interpolation\n",
    "\n",
    "\n",
    "def freeze(net):\n",
    "    for p in net.parameters():\n",
    "        p.requires_grad_(False) \n",
    "\n",
    "def unfreeze(net):\n",
    "    for p in net.parameters():\n",
    "        p.requires_grad_(True)\n",
    "def attack(G:nn.Module,D:nn.Module,T:nn.Module,iden,lr = 1e-2, momentum=0.9, lamda=100, iter=1500,clip_range = 1)->torch.tensor:\n",
    "    \"\"\"_summary_\n",
    "\n",
    "    Args:\n",
    "        G (nn.Module): Generator\n",
    "        D (nn.Module): Discriminator\n",
    "        T (nn.Module): Source model-> segmentation network\n",
    "        iden (tensor): segmentation result Tensor of (B H W) in 0~255 int\n",
    "        lr (float, optional): learing rate update z. Defaults to 1e-2.\n",
    "        momentum (float, optional): momentum. Defaults to 0.9.\n",
    "        lamda (int, optional): hyper param for weight of iden loss, lamda*iden loss. Defaults to 100.\n",
    "        iter (int, optional): update z iteration. Defaults to 1500.\n",
    "        clip_range (int, optional): clip z to [-range, range]. Defaults to 1.\n",
    "\n",
    "    Returns:\n",
    "        tensor(cuda): _description_\n",
    "    \"\"\"\n",
    "    ce = nn.CrossEntropyLoss(ignore_index=255)\n",
    "    bs = iden.shape[0]\n",
    "    b,h,w = iden.size()\n",
    "\n",
    "    z = torch.randn(bs, G.z_dim,h//8,w//8).float()\n",
    "    v = torch.zeros(bs, G.z_dim,h//8,w//8).float()\n",
    "    z.requires_grad = True\n",
    "    G.eval()\n",
    "    D.eval()\n",
    "\n",
    "    # inner loop:\n",
    "    for i in tqdm(range(iter)):\n",
    "        fake = G(z)\n",
    "        label = D(fake)\n",
    "        out = T(fake)['out'] # Deeplabv3\n",
    "\n",
    "        if z.grad is not None:\n",
    "            z.grad.data.zero_()\n",
    "        \n",
    "        prior_loss = - label.mean() # E( D (G(z)) )\n",
    "        iden_loss = ce(out,iden) # B C H W <-> B H W\n",
    "        total_loss = prior_loss + lamda * iden_loss\n",
    "        total_loss.backward()\n",
    "\n",
    "        # update z\n",
    "        v_prev = v.clone()\n",
    "        gradient = z.grad.data\n",
    "        v = momentum * v - lr * gradient\n",
    "        z = z + ( - momentum * v_prev + (1 + momentum) * v)\n",
    "        z = torch.clamp(z.detach(), -clip_range, clip_range).float()\n",
    "        z.requires_grad = True\n",
    "\n",
    "        prior_Loss_val = prior_loss.item()\n",
    "        iden_Loss_val = iden_loss.item()\n",
    "\n",
    "    return z.detach()\n",
    "\n",
    "\n",
    "#######\n",
    "# Setting \n",
    "#######\n",
    "device = torch.device(\"cuda\")\n",
    "output_dir = ''\n",
    "\n",
    "#######\n",
    "# load models\n",
    "#######\n",
    "# source model fix\n",
    "source = DeepLabV3()\n",
    "source.train()\n",
    "freeze(source)\n",
    "# s-> target model \n",
    "target = DeepLabV3().cuda()\n",
    "target.train()\n",
    "# Generator\n",
    "z_dim = 256\n",
    "generator = Generator(3,z_dim)\n",
    "# Domain estimation\n",
    "discriminator = Discriminator(3,z_dim)\n",
    "discriminator.eval()\n",
    "# z = rand n || attack\n",
    "\n",
    "######\n",
    "# load datas: Target city scape\n",
    "######\n",
    "root_dir = \"F:\\COMP90055\\GMIDA\\datas\\CityScapes\"\n",
    "dataloader = CityScapes(root_dir,batch_size=1,split='train')\n",
    "resize = T.Resize((256,512),interpolation=F.InterpolationMode.NEAREST) \n",
    "\n",
    "import numpy as np\n",
    "import matplotlib.pyplot as plt\n",
    "# image label image id\n",
    "for image_id,image,label in tqdm(dataloader):\n",
    "    print(image.size())\n",
    "    print(label.size())\n",
    "    print(image_id)\n",
    "    label = label\n",
    "\n",
    "    # label = resize(label)\n",
    "    plt.imshow(label[0].numpy())\n",
    "    plt.show()\n",
    "    print(label.size())\n",
    "    print(np.unique(label.numpy()))\n",
    "    # z = attack(generator,discriminator,source,label)\n",
    "    # G\n",
    "    # z = torch.randn(4,z_dim,8,16)\n",
    "    # fake = generator(z) # \n",
    "    # s_f = source(fake) # Use for MAE\n",
    "    #             # hook BN for BNS ,back ward G\n",
    "\n",
    "    # S_t = T(fake) # Use for MAE \n",
    "    # G.train()\n",
    "    break\n",
    "    # real = T(real)  # TAR loss use prob map calculate Square Max\n",
    "\n"
   ]
  }
 ],
 "metadata": {
  "kernelspec": {
   "display_name": "Python 3.8.5 ('base')",
   "language": "python",
   "name": "python3"
  },
  "language_info": {
   "codemirror_mode": {
    "name": "ipython",
    "version": 3
   },
   "file_extension": ".py",
   "mimetype": "text/x-python",
   "name": "python",
   "nbconvert_exporter": "python",
   "pygments_lexer": "ipython3",
   "version": "3.8.5"
  },
  "orig_nbformat": 4,
  "vscode": {
   "interpreter": {
    "hash": "b09ec625f77bf4fd762565a912b97636504ad6ec901eb2d0f4cf5a7de23e1ee5"
   }
  }
 },
 "nbformat": 4,
 "nbformat_minor": 2
}
