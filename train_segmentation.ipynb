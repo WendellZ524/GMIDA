{
 "cells": [
  {
   "cell_type": "markdown",
   "metadata": {},
   "source": []
  },
  {
   "cell_type": "code",
   "execution_count": 1,
   "metadata": {},
   "outputs": [],
   "source": [
    "import torch\n",
    "import torchvision\n",
    "from models import DeepLabV3\n",
    "from datasets import gta5dataset\n",
    "from torch.utils.data import DataLoader\n",
    "import matplotlib.pyplot as plt\n",
    "from torchvision import transforms as T\n",
    "import torch.nn as nn\n",
    "import numpy as np\n",
    "from torch.utils.tensorboard import SummaryWriter\n",
    "import time\n",
    "import os\n",
    "from tqdm.notebook import tqdm\n",
    "from utils import colorize_mask\n",
    "from PIL import Image"
   ]
  },
  {
   "cell_type": "code",
   "execution_count": 2,
   "metadata": {},
   "outputs": [
    {
     "name": "stderr",
     "output_type": "stream",
     "text": [
      "d:\\Anaconda3\\lib\\site-packages\\torchvision\\models\\_utils.py:208: UserWarning: The parameter 'pretrained' is deprecated since 0.13 and will be removed in 0.15, please use 'weights' instead.\n",
      "  warnings.warn(\n",
      "d:\\Anaconda3\\lib\\site-packages\\torchvision\\models\\_utils.py:223: UserWarning: Arguments other than a weight enum or `None` for 'weights' are deprecated since 0.13 and will be removed in 0.15. The current behavior is equivalent to passing `weights=None`.\n",
      "  warnings.warn(msg)\n"
     ]
    }
   ],
   "source": [
    "dataset = gta5dataset(\"./datas/\")\n",
    "# Data\n",
    "dataloader = DataLoader(dataset,\n",
    "                                  shuffle=True,\n",
    "                                  batch_size=2,\n",
    "                                  num_workers=0,\n",
    "                                  pin_memory=False)\n",
    "\n",
    "device = torch.device(\"cuda:0\")\n",
    "model = DeepLabV3().to(device)      \n",
    "\n",
    "epochs = 20\n",
    "# train loop\n",
    "params = [p for p in model.parameters() if p.requires_grad]\n",
    "optimizer = torch.optim.SGD(params, lr = 0.01, momentum = 0.9 , weight_decay = 1e-4)\n",
    "lr_scheduler = torch.optim.lr_scheduler.StepLR(optimizer, step_size = 5, gamma = 0.1 )\n",
    "\n",
    "# loss\n",
    "def compute_loss(output,target):\n",
    "    ce = nn.CrossEntropyLoss(ignore_index=255)\n",
    "    ce_loss = ce(output,target)\n",
    "    return ce_loss\n",
    "\n",
    "# output dir\n",
    "run_time = time.strftime(\"%Y-%m-%d_%H-%M-%S\",time.localtime())\n",
    "output_dir = \"./train-runs\"\n",
    "output_dir = os.path.join(output_dir,run_time)\n",
    "if os.path.isdir(output_dir):\n",
    "    os.makedir(output_dir)\n",
    "# Tensorboard\n",
    "writer = SummaryWriter(os.path.join(output_dir,\"log\"))"
   ]
  },
  {
   "cell_type": "code",
   "execution_count": null,
   "metadata": {},
   "outputs": [
    {
     "data": {
      "application/vnd.jupyter.widget-view+json": {
       "model_id": "76fefc1811da41e6b2be90c2881322cb",
       "version_major": 2,
       "version_minor": 0
      },
      "text/plain": [
       "HBox(children=(HTML(value=''), FloatProgress(value=1.0, bar_style='info', layout=Layout(width='20px'), max=1.0…"
      ]
     },
     "metadata": {},
     "output_type": "display_data"
    },
    {
     "name": "stdout",
     "output_type": "stream",
     "text": [
      "\n"
     ]
    }
   ],
   "source": [
    "# Train loop\n",
    "interval = 500\n",
    "for epoch in range(epochs):\n",
    "    # one eopch  \n",
    "    model.train()\n",
    "    for i,(index,image,label) in tqdm(enumerate(dataloader)):\n",
    "        output = model(image.to(device))['out']\n",
    "\n",
    "        loss = compute_loss(output,label.to(device))\n",
    "        # optimization step:\n",
    "        optimizer.zero_grad() # (reset gradients)\n",
    "        loss.backward() # (compute gradients)\n",
    "        optimizer.step() # (perform optimization step)\n",
    "        \n",
    "        step = epoch*len(dataloader)+i \n",
    "        if step % interval ==0:\n",
    "            writer.add_scalar(\"total_loss\",loss,step)\n",
    "        break\n",
    "    # validate: visualize one image \n",
    "    model.eval()\n",
    "    \n",
    "    im = image[0].data.cpu()\n",
    "    gt = label[0].data.cpu().numpy()\n",
    "    pred = output[0].data.max(0)[1].cpu().numpy()\n",
    "    break\n"
   ]
  },
  {
   "cell_type": "code",
   "execution_count": null,
   "metadata": {},
   "outputs": [
    {
     "name": "stdout",
     "output_type": "stream",
     "text": [
      "torch.Size([3, 128, 256])\n",
      "(128, 256)\n",
      "(128, 256)\n"
     ]
    },
    {
     "data": {
      "image/png": "[encoded data removed]",
      "text/plain": [
       "<Figure size 432x288 with 1 Axes>"
      ]
     },
     "metadata": {
      "needs_background": "light"
     },
     "output_type": "display_data"
    },
    {
     "data": {
      "image/png": "[encoded data removed]",
      "text/plain": [
       "<Figure size 432x288 with 1 Axes>"
      ]
     },
     "metadata": {
      "needs_background": "light"
     },
     "output_type": "display_data"
    }
   ],
   "source": [
    "print(im.shape)\n",
    "print(gt.shape)\n",
    "print(pred.shape)\n",
    "plt.imshow(colorize_mask(gt))\n",
    "plt.show()\n",
    "plt.imshow(colorize_mask(pred))\n",
    "plt.show()"
   ]
  },
  {
   "cell_type": "code",
   "execution_count": null,
   "metadata": {},
   "outputs": [],
   "source": [
    "print(label.dtype)\n",
    "print(output.dtype)"
   ]
  }
 ],
 "metadata": {
  "kernelspec": {
   "display_name": "Python 3.8.5 ('base')",
   "language": "python",
   "name": "python3"
  },
  "language_info": {
   "codemirror_mode": {
    "name": "ipython",
    "version": 3
   },
   "file_extension": ".py",
   "mimetype": "text/x-python",
   "name": "python",
   "nbconvert_exporter": "python",
   "pygments_lexer": "ipython3",
   "version": "3.8.5"
  },
  "orig_nbformat": 4,
  "vscode": {
   "interpreter": {
    "hash": "b09ec625f77bf4fd762565a912b97636504ad6ec901eb2d0f4cf5a7de23e1ee5"
   }
  }
 },
 "nbformat": 4,
 "nbformat_minor": 2
}
