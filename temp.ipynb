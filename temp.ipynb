{
 "cells": [
  {
   "cell_type": "code",
   "execution_count": null,
   "metadata": {},
   "outputs": [],
   "source": [
    "from models.deeplabv3 import DeepLabV3\n",
    "import torch\n",
    "\n",
    "#Target model\n",
    "T = DeepLabV3()\n",
    "T.eval()\n",
    "x  = torch.rand(1,3,256,512)\n",
    "print(x.size())\n",
    "# get latent vector\n",
    "_hook = {}\n",
    "def z_hook(model, input, output):\n",
    "    _hook['z'] = input[0].detach()\n",
    "\n",
    "T.classifier[-1].register_forward_hook(z_hook)\n",
    "\n",
    "y = T(x)['out']\n",
    "\n",
    "print(y.size())\n",
    "z = _hook['z']\n",
    "print(z.size()) # 1 256 32 64"
   ]
  },
  {
   "cell_type": "code",
   "execution_count": null,
   "metadata": {},
   "outputs": [],
   "source": [
    "BNLoss= []\n",
    "def f(bnloss):\n",
    "    bnloss.append(1)\n",
    "bnLoss =[]\n",
    "f(bnLoss)\n",
    "print(BNLoss)"
   ]
  },
  {
   "cell_type": "code",
   "execution_count": 1,
   "metadata": {},
   "outputs": [
    {
     "name": "stdout",
     "output_type": "stream",
     "text": [
      "---------------------Training GAN------------------------------\n"
     ]
    },
    {
     "name": "stderr",
     "output_type": "stream",
     "text": [
      "d:\\Anaconda3\\lib\\site-packages\\torchvision\\transforms\\functional.py:150: UserWarning: The given NumPy array is not writable, and PyTorch does not support non-writable tensors. This means writing to this tensor will result in undefined behavior. You may want to copy the array to protect its data or make it writable before converting it to a tensor. This type of warning will be suppressed for the rest of this program. (Triggered internally at  C:\\cb\\pytorch_1000000000000\\work\\torch\\csrc\\utils\\tensor_numpy.cpp:178.)\n",
      "  img = torch.from_numpy(pic.transpose((2, 0, 1))).contiguous()\n"
     ]
    },
    {
     "name": "stdout",
     "output_type": "stream",
     "text": [
      "25.0\n",
      "25.0\n",
      "25.0\n",
      "25.0\n",
      "25.0\n",
      "25.0\n",
      "25.0\n",
      "25.0\n",
      "25.0\n",
      "25.0\n",
      "25.0\n",
      "25.0\n",
      "25.0\n",
      "25.0\n",
      "25.0\n",
      "25.0\n",
      "25.0"
     ]
    }
   ],
   "source": [
    "import torchvision\n",
    "import torch\n",
    "from datasets.kitti import KITTIdataset\n",
    "from torch.utils.data import DataLoader\n",
    "print(f\"---------------------Training {'GAN'}------------------------------\")\n",
    "transforms = torchvision.transforms.Compose([\n",
    "                        torchvision.transforms.ToTensor(), # to (0 1)\n",
    "                        torchvision.transforms.Normalize([0.5,0.5,0.5],[0.5,0.5,0.5]), # to (-1 1)\n",
    "                        torchvision.transforms.Resize((256,512))\n",
    "                        ])\n",
    "dataset = KITTIdataset(transforms=transforms)\n",
    "# # dataset = torchvision.datasets.MNIST(r'F:\\COMP90055\\GMIDA\\datas\\MNIST_pytorch', train=True, download=True,\n",
    "# #                          transform=torchvision.transforms.Compose([\n",
    "# #                            torchvision.transforms.ToTensor(),\n",
    "# #                            torchvision.transforms.Resize((32,32)),\n",
    "# #                            torchvision.transforms.Normalize(\n",
    "# #                              (0.1307,), (0.3081,))\n",
    "# #                          ])),\n",
    "# dataloader = DataLoader(dataset,\n",
    "#                                 shuffle=True,\n",
    "#                                 batch_size=1,\n",
    "#                                 num_workers=0,\n",
    "#                                 pin_memory=False,\n",
    "#                                 drop_last=True)\n",
    "# dataset = torchvision.datasets.MNIST(r'F:\\COMP90055\\GMIDA\\datas\\MNIST_pytorch', train=True, download=True,\n",
    "#                             transform=torchvision.transforms.Compose([\n",
    "#                             torchvision.transforms.ToTensor(),\n",
    "#                             torchvision.transforms.Resize((32,32)),\n",
    "#                             # torchvision.transforms.Normalize(\n",
    "#                             #     (0.1307,), (0.3081,))\n",
    "#                             ]))\n",
    "dataloader = DataLoader(dataset,\n",
    "                                shuffle=True,\n",
    "                                batch_size=8,\n",
    "                                num_workers=0,\n",
    "                                pin_memory=False,\n",
    "                                drop_last=True)\n",
    "\n",
    "for im_id, img, label in dataloader:\n",
    "    img = img.cuda() \n",
    "    label = label.cuda()\n",
    "\n",
    "    print(torch.cuda.max_memory_allocated() // 1e6)\n",
    "\n"
   ]
  },
  {
   "cell_type": "code",
   "execution_count": 8,
   "metadata": {},
   "outputs": [
    {
     "name": "stderr",
     "output_type": "stream",
     "text": [
      "d:\\Anaconda3\\lib\\site-packages\\torchvision\\models\\_utils.py:208: UserWarning: The parameter 'pretrained' is deprecated since 0.13 and will be removed in 0.15, please use 'weights' instead.\n",
      "  warnings.warn(\n",
      "d:\\Anaconda3\\lib\\site-packages\\torchvision\\models\\_utils.py:223: UserWarning: Arguments other than a weight enum or `None` for 'weights' are deprecated since 0.13 and will be removed in 0.15. The current behavior is equivalent to passing `weights=None`.\n",
      "  warnings.warn(msg)\n"
     ]
    },
    {
     "data": {
      "text/plain": [
       "161.0"
      ]
     },
     "execution_count": 8,
     "metadata": {},
     "output_type": "execute_result"
    }
   ],
   "source": [
    "from models.deeplabv3 import DeepLabV3\n",
    "import torch\n",
    "torch.cuda.empty_cache()\n",
    "#Target model\n",
    "T = DeepLabV3().cuda()\n",
    "T.train()\n",
    "\n",
    "def freeze(net):\n",
    "    for p in net.parameters():\n",
    "        p.requires_grad_(False) \n",
    "\n",
    "def unfreeze(net):\n",
    "    for p in net.parameters():\n",
    "        p.requires_grad_(True)\n",
    "unfreeze(T)\n",
    "torch.cuda.max_memory_allocated() // 1e6"
   ]
  },
  {
   "cell_type": "code",
   "execution_count": 9,
   "metadata": {},
   "outputs": [
    {
     "data": {
      "text/plain": [
       "6"
      ]
     },
     "execution_count": 9,
     "metadata": {},
     "output_type": "execute_result"
    }
   ],
   "source": [
    "import torch\n",
    "torch.cuda.max_memory_allocated() // 1e6\n"
   ]
  }
 ],
 "metadata": {
  "kernelspec": {
   "display_name": "Python 3.8.5 ('base')",
   "language": "python",
   "name": "python3"
  },
  "language_info": {
   "codemirror_mode": {
    "name": "ipython",
    "version": 3
   },
   "file_extension": ".py",
   "mimetype": "text/x-python",
   "name": "python",
   "nbconvert_exporter": "python",
   "pygments_lexer": "ipython3",
   "version": "3.8.5"
  },
  "orig_nbformat": 4,
  "vscode": {
   "interpreter": {
    "hash": "b09ec625f77bf4fd762565a912b97636504ad6ec901eb2d0f4cf5a7de23e1ee5"
   }
  }
 },
 "nbformat": 4,
 "nbformat_minor": 2
}
